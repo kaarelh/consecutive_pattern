{
 "cells": [
  {
   "cell_type": "code",
   "execution_count": 2,
   "metadata": {},
   "outputs": [
    {
     "name": "stdout",
     "output_type": "stream",
     "text": [
      "[[1], [1, 1], [2, 2, 1], [5, 5, 4, 3], [17, 17, 15, 12, 9], [70, 70, 65, 57, 48, 39], [349, 349, 332, 303, 267, 228, 189], [2017, 2017, 1947, 1824, 1665, 1485, 1296, 1107]]\n"
     ]
    }
   ],
   "source": [
    "import matplotlib.pyplot as plt\n",
    "import math\n",
    "\n",
    "def pop_zeros(items):\n",
    "    while items[-1] == 0:\n",
    "        items.pop()\n",
    "\n",
    "\n",
    "#finds the n'th row from the n-3'th row\n",
    "def helperrec(k):\n",
    "    global anss\n",
    "    h0row=anss[k-4][:]\n",
    "    pop_zeros(h0row)\n",
    "    \n",
    "    h1row=[0]*(k-2)\n",
    "    for i in range(2,k-1):\n",
    "        h1row[-i]=h1row[-i+1]-h0row[-i+1]\n",
    "    \n",
    "    h2row=[0]*(k-1)\n",
    "    for i in range(1,k-1):\n",
    "        h2row[i]=h2row[i-1]+h1row[i-1]\n",
    "    \n",
    "    sum=0\n",
    "    for i in range(k-1):\n",
    "        sum+=anss[k-2][i]\n",
    "    \n",
    "    anss[k-1][0]=sum\n",
    "    for i in range(1,k):\n",
    "        anss[k-1][i]=anss[k-1][i-1]+h2row[i-1]\n",
    "        \n",
    "    \n",
    "        \n",
    "    \n",
    "    \n",
    "\n",
    "\n",
    "#A function that computes all f(m,n) up to some n in the global list of lists anss\n",
    "#f(m,n)=anss[n][m]\n",
    "def ndds(n):\n",
    "    global anss\n",
    "    anss = [[0]*n for _ in range(n)]\n",
    "    anss[0][0]=1\n",
    "    anss[1][0]=1\n",
    "    anss[1][1]=1\n",
    "    anss[2][0]=2\n",
    "    anss[2][1]=2\n",
    "    anss[2][2]=1\n",
    "    \n",
    "    for i in range(4,n+1):\n",
    "        helperrec(i)\n",
    "        \n",
    "    for row in anss:\n",
    "        pop_zeros(row)\n",
    "#ndds(1000)\n",
    "ndds(8)\n",
    "print(anss)\n",
    "\n",
    "#plt.plot(anss[170])\n",
    "\n",
    "#summed=sum(anss[170])\n",
    "#s=len(anss[170])\n",
    "#print(s)\n",
    "#const=2*math.pi/(3*math.sqrt(3))*(math.exp(-2*math.pi/(3*math.sqrt(3))))\n",
    "\n",
    "#hyp=[0]*s\n",
    "#for i in range(s):\n",
    "    #hyp[i]=const*math.exp(-2*math.pi*(i+1)/(s*3*math.sqrt(3)))*summed/s\n",
    "    #hyp[i]=summed*2*math.pi*math.exp(-math.pi*i/(3*math.sqrt(3)*s))*(math.sqrt(3)*math.sin(math.pi*i/(3*s))+3*math.cos(math.pi*i/(3*s)))/(9*math.sqrt(3)*s)\n",
    "\n",
    "#print(hyp)\n",
    "#plt.plot(hyp,'r')\n",
    "\n",
    "\n",
    "#plt.show()\n"
   ]
  },
  {
   "cell_type": "code",
   "execution_count": null,
   "metadata": {},
   "outputs": [],
   "source": []
  },
  {
   "cell_type": "code",
   "execution_count": null,
   "metadata": {},
   "outputs": [],
   "source": []
  },
  {
   "cell_type": "code",
   "execution_count": null,
   "metadata": {},
   "outputs": [],
   "source": []
  },
  {
   "cell_type": "code",
   "execution_count": null,
   "metadata": {},
   "outputs": [],
   "source": []
  }
 ],
 "metadata": {
  "kernelspec": {
   "display_name": "Python 3",
   "language": "python",
   "name": "python3"
  },
  "language_info": {
   "codemirror_mode": {
    "name": "ipython",
    "version": 3
   },
   "file_extension": ".py",
   "mimetype": "text/x-python",
   "name": "python",
   "nbconvert_exporter": "python",
   "pygments_lexer": "ipython3",
   "version": "3.7.6"
  }
 },
 "nbformat": 4,
 "nbformat_minor": 4
}
