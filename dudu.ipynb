{
 "cells": [
  {
   "cell_type": "code",
   "execution_count": 26,
   "metadata": {},
   "outputs": [
    {
     "name": "stdout",
     "output_type": "stream",
     "text": [
      "done\n"
     ]
    }
   ],
   "source": [
    "import matplotlib.pyplot as plt\n",
    "import math\n",
    "import scipy.special\n",
    "#import numpy as np\n",
    "\n",
    "#give the length of the consecutive decreasing subsequence we are avoiding\n",
    "k=3\n",
    "\n",
    "def pop_zeros(items):\n",
    "    while items[-1] == 0:\n",
    "        items.pop()\n",
    "\n",
    "\n",
    "#finds the next row containing the antidifference, with 0 at the start or end being spec in the input\n",
    "def nextrow(row,spec):\n",
    "    #print(row)\n",
    "    t=len(row)\n",
    "    newrow=[0]*(t+1)\n",
    "    if spec==\"start\":\n",
    "        for i in range(1,t+1):\n",
    "            newrow[i]=newrow[i-1]+row[i-1]\n",
    "    if spec==\"end\":\n",
    "        for i in range(2,t+2):\n",
    "            newrow[-i]=newrow[-i+1]-row[-i+1]\n",
    "    return(newrow)\n",
    "\n",
    "#finds the n'th row from the n-k'th row\n",
    "def helperrec(l):\n",
    "    global anss\n",
    "    global k\n",
    "    h0row=anss[l-k-1][:]\n",
    "    \n",
    "    pop_zeros(h0row)\n",
    "    \n",
    "    h1row=nextrow(h0row,\"end\")\n",
    "    \n",
    "    for i in range(k-2):\n",
    "        nrow=nextrow(h1row,\"start\")\n",
    "        h1row=nrow\n",
    "    \n",
    "    \n",
    "    sus=0\n",
    "    for i in range(l-1):\n",
    "        sus+=anss[l-2][i]\n",
    "    \n",
    "    anss[l-1][0]=sus\n",
    "    for i in range(1,l):\n",
    "        anss[l-1][i]=anss[l-1][i-1]+nrow[i-1]\n",
    "        \n",
    "    \n",
    "        \n",
    "    \n",
    "    \n",
    "\n",
    "\n",
    "#A function that computes all f(m,n) up to some n in the global list of lists anss\n",
    "#f(m,n)=anss[n][m]\n",
    "def ndds(n):\n",
    "    global anss\n",
    "    anss = [[0]*n for _ in range(n)]\n",
    "    \n",
    "    #initial values for k=3\n",
    "    anss[0][0]=1;anss[1][0]=1;anss[1][1]=1;anss[2][0]=2;anss[2][1]=2;anss[2][2]=1\n",
    "    \n",
    "    #initial values for k=4\n",
    "    #anss[0][0]=1;anss[1][0]=1;anss[1][1]=1;anss[2][0]=2;anss[2][1]=2;anss[2][2]=2;anss[3][0]=6;anss[3][1]=6;anss[3][2]=6;anss[3][3]=5\n",
    "    \n",
    "    #initial values for k=5\n",
    "    \n",
    "    for i in range(k+1,n+1):\n",
    "        helperrec(i)\n",
    "        \n",
    "    for row in anss:\n",
    "        pop_zeros(row)\n",
    "ndds(1000)\n",
    "#ndds(15)\n",
    "#print(anss)\n",
    "print(\"done\")\n",
    "\n",
    "\n",
    "#a list of m=1 to m=n of the number of permutations on n elements that have a double descent at index 1, have no other double descents, and start with m\n",
    "def hmlist(n):\n",
    "    global anss\n",
    "    \n",
    "    sus=0\n",
    "    for i in range(n-3):\n",
    "        sus+=anss[n-4][i]\n",
    "    \n",
    "    h1row=[sus]\n",
    "    \n",
    "    for i in range(n-3):\n",
    "        h1row.append(h1row[i]-anss[n-4][i])\n",
    "    \n",
    "    h2row=nextrow(h1row,\"start\")\n",
    "    h3row=nextrow(h2row,\"start\")\n",
    "    \n",
    "    return h3row\n",
    "\n",
    "#coefficients on the integrals for singleton ddfuncs, namely coeffs(i) gives list of coeffs from s=1 to s=i-1\n",
    "def coeffs(i):\n",
    "    return list(reversed(hmlist(i+2)))\n",
    "\n",
    "\n",
    "#func that finds dd({i},n), works for n>=5\n",
    "def dd(i,n):\n",
    "    if i==1:\n",
    "        ss=0\n",
    "        for m in range(1,n-2):\n",
    "            ss+=anss[n-4][m-1]*(int(scipy.special.binom(n,3))-int(scipy.special.binom(n-m,3)))\n",
    "        return ss\n",
    "    elif i==2:\n",
    "        ss=0\n",
    "        for m in range(1,n-3):\n",
    "            ss+=anss[n-5][m-1]*(3*int(scipy.special.binom(n,4))-3*int(scipy.special.binom(n-m,4))-m*int(scipy.special.binom(n-m-1,3)))\n",
    "        return ss\n",
    "        \n",
    "\n",
    "#consts=[]\n",
    "\n",
    "#for l in range(5,900):\n",
    "    #consts.append(dd(1,l)/dd(2,l))\n",
    "    #print(str(dd(1,l))+\" should be greater than \"+str(dd(2,l)))\n",
    "    \n",
    "\n",
    "\n",
    "\n",
    "#plt.plot(consts)\n",
    "#print(consts[-1])\n",
    "#print(consts[-100])\n",
    "#print(consts[-101])\n",
    "\n",
    "#fracs=[]\n",
    "\n",
    "#for l in range(5,900):\n",
    "    #fracs.append(dd(1,l)/anss[l-3][0]/int(scipy.special.binom(l,3)))\n",
    "#plt.plot(fracs)\n",
    "#print(fracs[-100])\n",
    "#plt.show()\n",
    "\n",
    "\n",
    "\n",
    "\n"
   ]
  },
  {
   "cell_type": "code",
   "execution_count": 21,
   "metadata": {},
   "outputs": [
    {
     "name": "stdout",
     "output_type": "stream",
     "text": [
      "15\n",
      "11\n",
      "71\n",
      "66\n",
      "426\n",
      "363\n",
      "2778\n",
      "2491\n",
      "20845\n",
      "18261\n",
      "171729\n",
      "152289\n"
     ]
    }
   ],
   "source": [
    "for l in range(5,11):\n",
    "    print(dd(1,l))\n",
    "    print(dd(2,l))"
   ]
  },
  {
   "cell_type": "code",
   "execution_count": 22,
   "metadata": {},
   "outputs": [
    {
     "data": {
      "text/plain": [
       "[0, 0, 5, 13, 22, 31]"
      ]
     },
     "execution_count": 22,
     "metadata": {},
     "output_type": "execute_result"
    }
   ],
   "source": [
    "hmlist(4)\n",
    "hmlist(5)\n",
    "hmlist(6)\n",
    "\n"
   ]
  },
  {
   "cell_type": "code",
   "execution_count": 31,
   "metadata": {},
   "outputs": [
    {
     "data": {
      "text/plain": [
       "[8, 5, 2, 0, 0]"
      ]
     },
     "execution_count": 31,
     "metadata": {},
     "output_type": "execute_result"
    }
   ],
   "source": [
    "coeffs(3)"
   ]
  },
  {
   "cell_type": "code",
   "execution_count": null,
   "metadata": {},
   "outputs": [],
   "source": []
  }
 ],
 "metadata": {
  "kernelspec": {
   "display_name": "Python 3",
   "language": "python",
   "name": "python3"
  },
  "language_info": {
   "codemirror_mode": {
    "name": "ipython",
    "version": 3
   },
   "file_extension": ".py",
   "mimetype": "text/x-python",
   "name": "python",
   "nbconvert_exporter": "python",
   "pygments_lexer": "ipython3",
   "version": "3.7.6"
  }
 },
 "nbformat": 4,
 "nbformat_minor": 4
}
