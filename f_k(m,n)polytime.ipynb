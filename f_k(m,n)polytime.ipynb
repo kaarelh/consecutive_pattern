{
 "cells": [
  {
   "cell_type": "code",
   "execution_count": 45,
   "metadata": {},
   "outputs": [
    {
     "name": "stdout",
     "output_type": "stream",
     "text": [
      "done\n",
      "141\n"
     ]
    },
    {
     "data": {
      "image/png": "[encoded data removed]",
      "text/plain": [
       "<Figure size 432x288 with 1 Axes>"
      ]
     },
     "metadata": {
      "needs_background": "light"
     },
     "output_type": "display_data"
    }
   ],
   "source": [
    "import matplotlib.pyplot as plt\n",
    "import math\n",
    "import scipy.special\n",
    "#import numpy as np\n",
    "\n",
    "#give the length of the consecutive decreasing subsequence we are avoiding\n",
    "k=4\n",
    "\n",
    "def pop_zeros(items):\n",
    "    while items[-1] == 0:\n",
    "        items.pop()\n",
    "\n",
    "\n",
    "#finds the next row containing the antidifference, with 0 at the start or end being spec in the input\n",
    "def nextrow(row,spec):\n",
    "    #print(row)\n",
    "    t=len(row)\n",
    "    newrow=[0]*(t+1)\n",
    "    if spec==\"start\":\n",
    "        for i in range(1,t+1):\n",
    "            newrow[i]=newrow[i-1]+row[i-1]\n",
    "    if spec==\"end\":\n",
    "        for i in range(2,t+2):\n",
    "            newrow[-i]=newrow[-i+1]-row[-i+1]\n",
    "    return(newrow)\n",
    "\n",
    "#finds the n'th row from the n-k'th row\n",
    "def helperrec(l):\n",
    "    global anss\n",
    "    global k\n",
    "    h0row=anss[l-k-1][:]\n",
    "    \n",
    "    pop_zeros(h0row)\n",
    "    \n",
    "    h1row=nextrow(h0row,\"end\")\n",
    "    \n",
    "    for i in range(k-2):\n",
    "        nrow=nextrow(h1row,\"start\")\n",
    "        h1row=nrow\n",
    "    \n",
    "    \n",
    "    sum=0\n",
    "    for i in range(l-1):\n",
    "        sum+=anss[l-2][i]\n",
    "    \n",
    "    anss[l-1][0]=sum\n",
    "    for i in range(1,l):\n",
    "        anss[l-1][i]=anss[l-1][i-1]+nrow[i-1]\n",
    "        \n",
    "    \n",
    "        \n",
    "    \n",
    "    \n",
    "\n",
    "\n",
    "#A function that computes all f(m,n) up to some n in the global list of lists anss\n",
    "#f(m,n)=anss[n][m]\n",
    "def ndds(n):\n",
    "    global anss\n",
    "    anss = [[0]*n for _ in range(n)]\n",
    "    \n",
    "    #initial values for k=3\n",
    "    #anss[0][0]=1;anss[1][0]=1;anss[1][1]=1;anss[2][0]=2;anss[2][1]=2;anss[2][2]=1\n",
    "    \n",
    "    #initial values for k=4\n",
    "    anss[0][0]=1;anss[1][0]=1;anss[1][1]=1;anss[2][0]=2;anss[2][1]=2;anss[2][2]=2;anss[3][0]=6;anss[3][1]=6;anss[3][2]=6;anss[3][3]=5\n",
    "    \n",
    "    #initial values for k=5\n",
    "    \n",
    "    for i in range(k+1,n+1):\n",
    "        helperrec(i)\n",
    "        \n",
    "    for row in anss:\n",
    "        pop_zeros(row)\n",
    "ndds(250)\n",
    "#ndds(15)\n",
    "#print(anss)\n",
    "print(\"done\")\n",
    "\n",
    "\n",
    "\n",
    "#distribution for k=4\n",
    "def phi4(x):\n",
    "    r=1.0384156372665563\n",
    "    return (math.exp(-r*x)+math.sin(r*x)+math.cos(r*x))*r/2\n",
    "\n",
    "#plt.plot(anss[170])\n",
    "\n",
    "plt.plot(anss[140])\n",
    "\n",
    "#summed=sum(anss[170])\n",
    "summed=sum(anss[140])\n",
    "\n",
    "#s=len(anss[170])\n",
    "s=len(anss[140])\n",
    "print(s)\n",
    "#const=2*math.pi/(3*math.sqrt(3))*(math.exp(-2*math.pi/(3*math.sqrt(3))))\n",
    "hyp=[0]*s\n",
    "for i in range(s):\n",
    "    hyp[i]=phi4((i+1)/s)*summed/s\n",
    "    #hyp[i]=const*math.exp(-2*math.pi*(i+1)/(s*3*math.sqrt(3)))*summed/s\n",
    "    #hyp[i]=summed*2*math.pi*math.exp(-math.pi*i/(3*math.sqrt(3)*s))*(math.sqrt(3)*math.sin(math.pi*i/(3*s))+3*math.cos(math.pi*i/(3*s)))/(9*math.sqrt(3)*s)\n",
    "\n",
    "#print(hyp)\n",
    "plt.plot(hyp,'r')\n",
    "\n",
    "\n",
    "plt.show()\n",
    "\n",
    "#checking an example of the identity for k=4\n",
    "#anss[14][7]\n",
    "#anss[14][0]-anss[11][0]*scipy.special.comb(7,3)+anss[10][0]*scipy.special.comb(7,4)-anss[7][0]*scipy.special.comb(7,7)\n"
   ]
  },
  {
   "cell_type": "code",
   "execution_count": null,
   "metadata": {},
   "outputs": [],
   "source": []
  },
  {
   "cell_type": "code",
   "execution_count": null,
   "metadata": {},
   "outputs": [],
   "source": []
  },
  {
   "cell_type": "code",
   "execution_count": null,
   "metadata": {},
   "outputs": [],
   "source": []
  },
  {
   "cell_type": "code",
   "execution_count": null,
   "metadata": {},
   "outputs": [],
   "source": []
  },
  {
   "cell_type": "code",
   "execution_count": null,
   "metadata": {},
   "outputs": [],
   "source": []
  },
  {
   "cell_type": "code",
   "execution_count": null,
   "metadata": {},
   "outputs": [],
   "source": []
  }
 ],
 "metadata": {
  "kernelspec": {
   "display_name": "Python 3",
   "language": "python",
   "name": "python3"
  },
  "language_info": {
   "codemirror_mode": {
    "name": "ipython",
    "version": 3
   },
   "file_extension": ".py",
   "mimetype": "text/x-python",
   "name": "python",
   "nbconvert_exporter": "python",
   "pygments_lexer": "ipython3",
   "version": "3.7.6"
  }
 },
 "nbformat": 4,
 "nbformat_minor": 4
}
